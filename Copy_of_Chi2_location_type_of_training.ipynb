{
  "nbformat": 4,
  "nbformat_minor": 0,
  "metadata": {
    "colab": {
      "name": "Copy of Chi2 location_type of_training.ipynb",
      "provenance": [],
      "authorship_tag": "ABX9TyMLxfKIQI2WbvLOMcMGZ3AK",
      "include_colab_link": true
    },
    "kernelspec": {
      "name": "python3",
      "display_name": "Python 3"
    },
    "language_info": {
      "name": "python"
    }
  },
  "cells": [
    {
      "cell_type": "markdown",
      "metadata": {
        "id": "view-in-github",
        "colab_type": "text"
      },
      "source": [
        "<a href=\"https://colab.research.google.com/github/petitmeau/Python-VMP/blob/main/Copy_of_Chi2_location_type_of_training.ipynb\" target=\"_parent\"><img src=\"https://colab.research.google.com/assets/colab-badge.svg\" alt=\"Open In Colab\"/></a>"
      ]
    },
    {
      "cell_type": "code",
      "execution_count": null,
      "metadata": {
        "colab": {
          "base_uri": "https://localhost:8080/"
        },
        "id": "z_SoFOARgmfn",
        "outputId": "d140105a-d5c1-4bfe-9540-8841af3f04a5"
      },
      "outputs": [
        {
          "output_type": "stream",
          "name": "stdout",
          "text": [
            "Mounted at /content/drive\n",
            "If yes, what training have you had?  Hands-on course  I have not had training  \\\n",
            "Where is your neonatal unit based?                                              \n",
            "England                                           11                       49   \n",
            "Northern Ireland                                   1                       10   \n",
            "Scotland                                           3                       20   \n",
            "Wales                                              0                        2   \n",
            "\n",
            "If yes, what training have you had?  Informal bedside teaching  \\\n",
            "Where is your neonatal unit based?                               \n",
            "England                                                      4   \n",
            "Northern Ireland                                             1   \n",
            "Scotland                                                     3   \n",
            "Wales                                                        0   \n",
            "\n",
            "If yes, what training have you had?  Short teaching session  Virtual course  \n",
            "Where is your neonatal unit based?                                           \n",
            "England                                                   4               7  \n",
            "Northern Ireland                                          0               1  \n",
            "Scotland                                                  4               3  \n",
            "Wales                                                     0               0  \n",
            "If yes, what training have you had?  Hands-on course  I have not had training  \\\n",
            "Where is your neonatal unit based?                                              \n",
            "England                                     0.146667                 0.653333   \n",
            "Northern Ireland                            0.076923                 0.769231   \n",
            "Scotland                                    0.090909                 0.606061   \n",
            "Wales                                       0.000000                 1.000000   \n",
            "\n",
            "If yes, what training have you had?  Informal bedside teaching  \\\n",
            "Where is your neonatal unit based?                               \n",
            "England                                               0.053333   \n",
            "Northern Ireland                                      0.076923   \n",
            "Scotland                                              0.090909   \n",
            "Wales                                                 0.000000   \n",
            "\n",
            "If yes, what training have you had?  Short teaching session  Virtual course  \n",
            "Where is your neonatal unit based?                                           \n",
            "England                                            0.053333        0.093333  \n",
            "Northern Ireland                                   0.000000        0.076923  \n",
            "Scotland                                           0.121212        0.090909  \n",
            "Wales                                              0.000000        0.000000  \n"
          ]
        },
        {
          "output_type": "execute_result",
          "data": {
            "text/plain": [
              "(5.439140260412986,\n",
              " 0.9416825562997998,\n",
              " 12,\n",
              " array([[ 9.14634146, 49.3902439 ,  4.87804878,  4.87804878,  6.70731707],\n",
              "        [ 1.58536585,  8.56097561,  0.84552846,  0.84552846,  1.16260163],\n",
              "        [ 4.02439024, 21.73170732,  2.14634146,  2.14634146,  2.95121951],\n",
              "        [ 0.24390244,  1.31707317,  0.1300813 ,  0.1300813 ,  0.17886179]]))"
            ]
          },
          "metadata": {},
          "execution_count": 1
        }
      ],
      "source": [
        "from google.colab import drive\n",
        "drive.mount(\"/content/drive\")\n",
        "import scipy\n",
        "\n",
        "from scipy.stats import chi2_contingency\n",
        "import seaborn as sns\n",
        "import matplotlib.pyplot as plt\n",
        "import pandas as pd\n",
        "\n",
        "%matplotlib inline\n",
        "\n",
        "\n",
        "\n",
        "filename='/content/drive/My Drive/LUS_3009.xlsx'\n",
        "\n",
        "headers= ['Timestamp','Are you familiar with neonatal lung US?','Does your unit routinely use lung US in clinical practice?','If your unit routinely uses lung US, what it is used for? Choose all that apply','If your unit routinely uses lung US, how long has it been doing so for?','Have you had any training in neonatal lung US?','If yes, what training have you had?','Would you be interested in attending formal training to enable you to pioneer and implement neonatal lung US in your neonatal unit?','Do you have a linear or micro-linear (hockey stick) probe in your ultrasound machine? (demonstrated in the picture below)','Where is your neonatal unit based?','What level of care does your unit provide?','What is your level of training']\n",
        "\n",
        "\n",
        "df=pd.read_excel(filename, names=headers)\n",
        "\n",
        "contingency=pd.crosstab(df['Where is your neonatal unit based?'], df['If yes, what training have you had?'])\n",
        "\n",
        "print(contingency)\n",
        "\n",
        "contingency_pct=pd.crosstab(df['Where is your neonatal unit based?'], df['If yes, what training have you had?'], normalize='index')\n",
        "print(contingency_pct)\n",
        "scipy.stats.chi2_contingency(contingency, correction=True)"
      ]
    }
  ]
}