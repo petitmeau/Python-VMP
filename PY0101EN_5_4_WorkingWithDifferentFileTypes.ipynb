{
  "nbformat": 4,
  "nbformat_minor": 0,
  "metadata": {
    "kernelspec": {
      "display_name": "Python 3",
      "language": "python",
      "name": "python3"
    },
    "language_info": {
      "codemirror_mode": {
        "name": "ipython",
        "version": 3
      },
      "file_extension": ".py",
      "mimetype": "text/x-python",
      "name": "python",
      "nbconvert_exporter": "python",
      "pygments_lexer": "ipython3",
      "version": "3.7.6"
    },
    "colab": {
      "name": "PY0101EN-5.4_WorkingWithDifferentFileTypes.ipynb",
      "provenance": [],
      "include_colab_link": true
    }
  },
  "cells": [
    {
      "cell_type": "markdown",
      "metadata": {
        "id": "view-in-github",
        "colab_type": "text"
      },
      "source": [
        "<a href=\"https://colab.research.google.com/github/petitmeau/Python-VMP/blob/main/PY0101EN_5_4_WorkingWithDifferentFileTypes.ipynb\" target=\"_parent\"><img src=\"https://colab.research.google.com/assets/colab-badge.svg\" alt=\"Open In Colab\"/></a>"
      ]
    },
    {
      "cell_type": "markdown",
      "metadata": {
        "id": "vbqExk32rThE"
      },
      "source": [
        "<center>\n",
        "    <img src=\"https://cf-courses-data.s3.us.cloud-object-storage.appdomain.cloud/IBMDeveloperSkillsNetwork-PY0101EN-SkillsNetwork/IDSNlogo.png\" width=\"300\" alt=\"cognitiveclass.ai logo\"  />\n",
        "</center>\n"
      ]
    },
    {
      "cell_type": "markdown",
      "metadata": {
        "id": "CrWqX0bSrThM"
      },
      "source": [
        "# Table of Contents\n",
        "\n",
        "<div class=\"alert alert-block alert-info\" style=\"margin-top: 20px\">\n",
        "\n",
        "<font size = 3>\n",
        "\n",
        "1.  <a href=\"https://#item31\">Data Engineering</a>\n",
        "2.  <a href=\"https://#item31\">Data Engineering Process</a>\n",
        "3.  <a href=\"https://#item32\">Working with different file formats</a>\n",
        "4.  <a href=\"https://#item33\">Data Analysis</a>\n",
        "\n",
        "</font>\n",
        "</div>\n"
      ]
    },
    {
      "cell_type": "markdown",
      "metadata": {
        "id": "3_3ZLoh-rThP"
      },
      "source": [
        "# Data Engineering\n"
      ]
    },
    {
      "cell_type": "markdown",
      "metadata": {
        "id": "4468eC8YrThS"
      },
      "source": [
        "**Data engineering** is one of the most critical and foundational skills in any data scientist’s toolkit.\n"
      ]
    },
    {
      "cell_type": "markdown",
      "metadata": {
        "id": "vuC59DI3rThV"
      },
      "source": [
        "# Data Engineering Process\n"
      ]
    },
    {
      "cell_type": "markdown",
      "metadata": {
        "id": "uHY3DwcdrThW"
      },
      "source": [
        "There are several steps in Data Engineering process.\n",
        "\n",
        "1.  **Extract** - Data extraction is getting data from multiple sources. Ex. Data extraction from a website using Web scraping or gathering information from the data that are stored in different formats(JSON, CSV, XLSX etc.).\n",
        "\n",
        "2.  **Transform** - Tarnsforming the data means removing the data that we don't need for further analysis and converting the data in the format that all the data from the multiple sources is in the same format.\n",
        "\n",
        "3.  **Load** - Loading the data inside a data warehouse. Data warehouse essentially contains large volumes of data that are accessed to gather insights.\n"
      ]
    },
    {
      "cell_type": "markdown",
      "metadata": {
        "id": "shBZqCc-rThZ"
      },
      "source": [
        "# Working with different file formats\n"
      ]
    },
    {
      "cell_type": "markdown",
      "metadata": {
        "id": "FuqbhUfSrTha"
      },
      "source": [
        "In the real-world, people rarely get neat tabular data. Thus, it is mandatory for any data scientist (or data engineer) to be aware of different file formats, common challenges in handling them and the best, most efficient ways to handle this data in real life. We have reviewed some of this content in other modules.\n"
      ]
    },
    {
      "cell_type": "markdown",
      "metadata": {
        "id": "xUgykyEGrThc"
      },
      "source": [
        "#### File Format\n"
      ]
    },
    {
      "cell_type": "markdown",
      "metadata": {
        "id": "sVGnp-oxrThe"
      },
      "source": [
        "A file format is a standard way in which information is encoded for storage in a file. First, the file format specifies whether the file is a binary or ASCII file. Second, it shows how the information is organized. For example, the comma-separated values (CSV) file format stores tabular data in plain text.\n",
        "\n",
        "To identify a file format, you can usually look at the file extension to get an idea. For example, a file saved with name “Data” in “CSV” format will appear as “Data.csv”. By noticing the “.csv” extension, we can clearly identify that it is a “CSV” file and the data is stored in a tabular format.\n"
      ]
    },
    {
      "cell_type": "markdown",
      "metadata": {
        "id": "xsbuo7zerThg"
      },
      "source": [
        "There are various formats for a dataset, .csv, .json, .xlsx etc. The dataset can be stored in different places, on your local machine or sometimes online.\n",
        "\n",
        "**In this section, you will learn how to load a dataset into our Jupyter Notebook.**\n"
      ]
    },
    {
      "cell_type": "markdown",
      "metadata": {
        "id": "mjdBF5G9rThi"
      },
      "source": [
        "Now, we will look at some file formats and how to read them in Python:\n"
      ]
    },
    {
      "cell_type": "markdown",
      "metadata": {
        "id": "pz4QAxBRrThj"
      },
      "source": [
        "# Comma-separated values (CSV) file format\n"
      ]
    },
    {
      "cell_type": "markdown",
      "metadata": {
        "id": "viVd_DihrThj"
      },
      "source": [
        "The **Comma-separated values** file format falls under a spreadsheet file format.\n",
        "\n",
        "In a spreadsheet file format, data is stored in cells. Each cell is organized in rows and columns. A column in the spreadsheet file can have different types. For example, a column can be of string type, a date type, or an integer type.\n",
        "\n",
        "Each line in CSV file represents an observation, or commonly called a record. Each record may contain one or more fields which are separated by a comma.\n"
      ]
    },
    {
      "cell_type": "markdown",
      "metadata": {
        "id": "0kp4P3C9rThl"
      },
      "source": [
        "## Reading data from CSV in Python\n"
      ]
    },
    {
      "cell_type": "markdown",
      "metadata": {
        "id": "vHmNiIfhrThl"
      },
      "source": [
        "The **Pandas** Library is a useful tool that enables us to read various datasets into a Pandas data frame\n",
        "\n",
        "Let us look at how to read a CSV file in Pandas Library.\n",
        "\n",
        "We use **pandas.read_csv()** function to read the csv file. In the parentheses, we put the file path along with a quotation mark as an argument, so that pandas will read the file into a data frame from that address. The file path can be either a URL or your local file address.\n"
      ]
    },
    {
      "cell_type": "code",
      "metadata": {
        "id": "HmHmNhtvrThm"
      },
      "source": [
        "import pandas as pd"
      ],
      "execution_count": null,
      "outputs": []
    },
    {
      "cell_type": "code",
      "metadata": {
        "id": "1va1lKLRrTho"
      },
      "source": [
        "url ='https://cf-courses-data.s3.us.cloud-object-storage.appdomain.cloud/IBMDeveloperSkillsNetwork-PY0101EN-SkillsNetwork/labs/Module%205/data/addresses.csv'\n",
        "df = pd.read_csv(url)"
      ],
      "execution_count": null,
      "outputs": []
    },
    {
      "cell_type": "code",
      "metadata": {
        "id": "CKpfCO03rThr",
        "outputId": "e39cc603-f600-4384-f83c-3b3f73b8c390",
        "colab": {
          "base_uri": "https://localhost:8080/",
          "height": 206
        }
      },
      "source": [
        "import pandas as pd\n",
        "url ='https://cf-courses-data.s3.us.cloud-object-storage.appdomain.cloud/IBMDeveloperSkillsNetwork-PY0101EN-SkillsNetwork/labs/Module%205/data/addresses.csv'\n",
        "df = pd.read_csv(url)\n",
        "df"
      ],
      "execution_count": 2,
      "outputs": [
        {
          "output_type": "execute_result",
          "data": {
            "text/html": [
              "\n",
              "  <div id=\"df-77bf589e-4e89-48d2-b7cd-0dddde58cdd7\">\n",
              "    <div class=\"colab-df-container\">\n",
              "      <div>\n",
              "<style scoped>\n",
              "    .dataframe tbody tr th:only-of-type {\n",
              "        vertical-align: middle;\n",
              "    }\n",
              "\n",
              "    .dataframe tbody tr th {\n",
              "        vertical-align: top;\n",
              "    }\n",
              "\n",
              "    .dataframe thead th {\n",
              "        text-align: right;\n",
              "    }\n",
              "</style>\n",
              "<table border=\"1\" class=\"dataframe\">\n",
              "  <thead>\n",
              "    <tr style=\"text-align: right;\">\n",
              "      <th></th>\n",
              "      <th>John</th>\n",
              "      <th>Doe</th>\n",
              "      <th>120 jefferson st.</th>\n",
              "      <th>Riverside</th>\n",
              "      <th>NJ</th>\n",
              "      <th>08075</th>\n",
              "    </tr>\n",
              "  </thead>\n",
              "  <tbody>\n",
              "    <tr>\n",
              "      <th>0</th>\n",
              "      <td>Jack</td>\n",
              "      <td>McGinnis</td>\n",
              "      <td>220 hobo Av.</td>\n",
              "      <td>Phila</td>\n",
              "      <td>PA</td>\n",
              "      <td>9119</td>\n",
              "    </tr>\n",
              "    <tr>\n",
              "      <th>1</th>\n",
              "      <td>John \"Da Man\"</td>\n",
              "      <td>Repici</td>\n",
              "      <td>120 Jefferson St.</td>\n",
              "      <td>Riverside</td>\n",
              "      <td>NJ</td>\n",
              "      <td>8075</td>\n",
              "    </tr>\n",
              "    <tr>\n",
              "      <th>2</th>\n",
              "      <td>Stephen</td>\n",
              "      <td>Tyler</td>\n",
              "      <td>7452 Terrace \"At the Plaza\" road</td>\n",
              "      <td>SomeTown</td>\n",
              "      <td>SD</td>\n",
              "      <td>91234</td>\n",
              "    </tr>\n",
              "    <tr>\n",
              "      <th>3</th>\n",
              "      <td>NaN</td>\n",
              "      <td>Blankman</td>\n",
              "      <td>NaN</td>\n",
              "      <td>SomeTown</td>\n",
              "      <td>SD</td>\n",
              "      <td>298</td>\n",
              "    </tr>\n",
              "    <tr>\n",
              "      <th>4</th>\n",
              "      <td>Joan \"the bone\", Anne</td>\n",
              "      <td>Jet</td>\n",
              "      <td>9th, at Terrace plc</td>\n",
              "      <td>Desert City</td>\n",
              "      <td>CO</td>\n",
              "      <td>123</td>\n",
              "    </tr>\n",
              "  </tbody>\n",
              "</table>\n",
              "</div>\n",
              "      <button class=\"colab-df-convert\" onclick=\"convertToInteractive('df-77bf589e-4e89-48d2-b7cd-0dddde58cdd7')\"\n",
              "              title=\"Convert this dataframe to an interactive table.\"\n",
              "              style=\"display:none;\">\n",
              "        \n",
              "  <svg xmlns=\"http://www.w3.org/2000/svg\" height=\"24px\"viewBox=\"0 0 24 24\"\n",
              "       width=\"24px\">\n",
              "    <path d=\"M0 0h24v24H0V0z\" fill=\"none\"/>\n",
              "    <path d=\"M18.56 5.44l.94 2.06.94-2.06 2.06-.94-2.06-.94-.94-2.06-.94 2.06-2.06.94zm-11 1L8.5 8.5l.94-2.06 2.06-.94-2.06-.94L8.5 2.5l-.94 2.06-2.06.94zm10 10l.94 2.06.94-2.06 2.06-.94-2.06-.94-.94-2.06-.94 2.06-2.06.94z\"/><path d=\"M17.41 7.96l-1.37-1.37c-.4-.4-.92-.59-1.43-.59-.52 0-1.04.2-1.43.59L10.3 9.45l-7.72 7.72c-.78.78-.78 2.05 0 2.83L4 21.41c.39.39.9.59 1.41.59.51 0 1.02-.2 1.41-.59l7.78-7.78 2.81-2.81c.8-.78.8-2.07 0-2.86zM5.41 20L4 18.59l7.72-7.72 1.47 1.35L5.41 20z\"/>\n",
              "  </svg>\n",
              "      </button>\n",
              "      \n",
              "  <style>\n",
              "    .colab-df-container {\n",
              "      display:flex;\n",
              "      flex-wrap:wrap;\n",
              "      gap: 12px;\n",
              "    }\n",
              "\n",
              "    .colab-df-convert {\n",
              "      background-color: #E8F0FE;\n",
              "      border: none;\n",
              "      border-radius: 50%;\n",
              "      cursor: pointer;\n",
              "      display: none;\n",
              "      fill: #1967D2;\n",
              "      height: 32px;\n",
              "      padding: 0 0 0 0;\n",
              "      width: 32px;\n",
              "    }\n",
              "\n",
              "    .colab-df-convert:hover {\n",
              "      background-color: #E2EBFA;\n",
              "      box-shadow: 0px 1px 2px rgba(60, 64, 67, 0.3), 0px 1px 3px 1px rgba(60, 64, 67, 0.15);\n",
              "      fill: #174EA6;\n",
              "    }\n",
              "\n",
              "    [theme=dark] .colab-df-convert {\n",
              "      background-color: #3B4455;\n",
              "      fill: #D2E3FC;\n",
              "    }\n",
              "\n",
              "    [theme=dark] .colab-df-convert:hover {\n",
              "      background-color: #434B5C;\n",
              "      box-shadow: 0px 1px 3px 1px rgba(0, 0, 0, 0.15);\n",
              "      filter: drop-shadow(0px 1px 2px rgba(0, 0, 0, 0.3));\n",
              "      fill: #FFFFFF;\n",
              "    }\n",
              "  </style>\n",
              "\n",
              "      <script>\n",
              "        const buttonEl =\n",
              "          document.querySelector('#df-77bf589e-4e89-48d2-b7cd-0dddde58cdd7 button.colab-df-convert');\n",
              "        buttonEl.style.display =\n",
              "          google.colab.kernel.accessAllowed ? 'block' : 'none';\n",
              "\n",
              "        async function convertToInteractive(key) {\n",
              "          const element = document.querySelector('#df-77bf589e-4e89-48d2-b7cd-0dddde58cdd7');\n",
              "          const dataTable =\n",
              "            await google.colab.kernel.invokeFunction('convertToInteractive',\n",
              "                                                     [key], {});\n",
              "          if (!dataTable) return;\n",
              "\n",
              "          const docLinkHtml = 'Like what you see? Visit the ' +\n",
              "            '<a target=\"_blank\" href=https://colab.research.google.com/notebooks/data_table.ipynb>data table notebook</a>'\n",
              "            + ' to learn more about interactive tables.';\n",
              "          element.innerHTML = '';\n",
              "          dataTable['output_type'] = 'display_data';\n",
              "          await google.colab.output.renderOutput(dataTable, element);\n",
              "          const docLink = document.createElement('div');\n",
              "          docLink.innerHTML = docLinkHtml;\n",
              "          element.appendChild(docLink);\n",
              "        }\n",
              "      </script>\n",
              "    </div>\n",
              "  </div>\n",
              "  "
            ],
            "text/plain": [
              "                    John       Doe                 120 jefferson st.  \\\n",
              "0                   Jack  McGinnis                      220 hobo Av.   \n",
              "1          John \"Da Man\"    Repici                 120 Jefferson St.   \n",
              "2                Stephen     Tyler  7452 Terrace \"At the Plaza\" road   \n",
              "3                    NaN  Blankman                               NaN   \n",
              "4  Joan \"the bone\", Anne       Jet               9th, at Terrace plc   \n",
              "\n",
              "     Riverside   NJ   08075  \n",
              "0        Phila   PA    9119  \n",
              "1    Riverside   NJ    8075  \n",
              "2     SomeTown   SD   91234  \n",
              "3     SomeTown   SD     298  \n",
              "4  Desert City   CO     123  "
            ]
          },
          "metadata": {},
          "execution_count": 2
        }
      ]
    },
    {
      "cell_type": "markdown",
      "metadata": {
        "id": "PhwifMN8rTh2"
      },
      "source": [
        "#### Adding column name to the DataFrame\n",
        "\n",
        "We can add columns to an existing DataFrame using its **columns** attribute.\n"
      ]
    },
    {
      "cell_type": "code",
      "metadata": {
        "id": "l3zAeog0rTh6"
      },
      "source": [
        "df.columns =['First Name', 'Last Name', 'Location ', 'City','State','Area Code']"
      ],
      "execution_count": null,
      "outputs": []
    },
    {
      "cell_type": "code",
      "metadata": {
        "id": "akMr1unCrTh9"
      },
      "source": [
        "df"
      ],
      "execution_count": null,
      "outputs": []
    },
    {
      "cell_type": "markdown",
      "metadata": {
        "id": "tVmENDvGrTh9"
      },
      "source": [
        "#### Selecting a single column\n",
        "\n",
        "To select the first column 'First Name', you can pass the column name as a string to the indexing operator.\n"
      ]
    },
    {
      "cell_type": "code",
      "metadata": {
        "id": "nhsiOk5HrTh_"
      },
      "source": [
        "df[\"First Name\"]"
      ],
      "execution_count": null,
      "outputs": []
    },
    {
      "cell_type": "markdown",
      "metadata": {
        "id": "SRvXcTqUrTh_"
      },
      "source": [
        "#### Selecting multiple columns\n",
        "\n",
        "To select multiple columns, you can pass a list of column names to the indexing operator.\n"
      ]
    },
    {
      "cell_type": "code",
      "metadata": {
        "id": "S_vEq5ZtrTiB"
      },
      "source": [
        "df = df[['First Name', 'Last Name', 'Location ', 'City','State','Area Code']]\n",
        "df"
      ],
      "execution_count": null,
      "outputs": []
    },
    {
      "cell_type": "markdown",
      "metadata": {
        "id": "Ao2SmmYerTiD"
      },
      "source": [
        "#### Selecting rows using .iloc and .loc\n",
        "\n",
        "Now, let's see how to use .loc for selecting rows from our DataFrame.\n",
        "\n",
        "**loc() : loc() is label based data selecting method which means that we have to pass the name of the row or column which we want to select.**\n"
      ]
    },
    {
      "cell_type": "code",
      "metadata": {
        "id": "TPX-LQKFrTiE"
      },
      "source": [
        "# To select the first row\n",
        "df.loc[0]"
      ],
      "execution_count": null,
      "outputs": []
    },
    {
      "cell_type": "code",
      "metadata": {
        "id": "z_er_X9KrTiE"
      },
      "source": [
        "# To select the 0th,1st and 2nd row of \"First Name\" column only\n",
        "df.loc[[0,1,2], \"First Name\" ]"
      ],
      "execution_count": null,
      "outputs": []
    },
    {
      "cell_type": "markdown",
      "metadata": {
        "id": "sMVu2QUMrTiH"
      },
      "source": [
        "Now, let's see how to use .iloc for selecting rows from our DataFrame.\n",
        "\n",
        "**iloc() : iloc() is a indexed based selecting method which means that we have to pass integer index in the method to select specific row/column.**\n"
      ]
    },
    {
      "cell_type": "code",
      "metadata": {
        "id": "X3y5LO5SrTiI"
      },
      "source": [
        "# To select the 0th,1st and 2nd row of \"First Name\" column only\n",
        "df.iloc[[0,1,2], 0]"
      ],
      "execution_count": null,
      "outputs": []
    },
    {
      "cell_type": "markdown",
      "metadata": {
        "id": "EFHwKgvHrTiK"
      },
      "source": [
        "For more information please read the [documentation](https://pandas.pydata.org/pandas-docs/stable/user_guide/indexing.html?utm_medium=Exinfluencer&utm_source=Exinfluencer&utm_content=000026UJ&utm_term=10006555&utm_id=NA-SkillsNetwork-Channel-SkillsNetworkCoursesIBMDeveloperSkillsNetworkPY0101ENSkillsNetwork19487395-2021-01-01).\n",
        "\n",
        "Let perform some basic transformation in pandas.\n"
      ]
    },
    {
      "cell_type": "markdown",
      "metadata": {
        "id": "_ksuXs0MrTiK"
      },
      "source": [
        "### Transform Function in Pandas\n",
        "\n",
        "Python’s Transform function returns a self-produced dataframe with transformed values after applying the function specified in its parameter.\n",
        "\n",
        "Let's see how Transform function works.\n"
      ]
    },
    {
      "cell_type": "code",
      "metadata": {
        "id": "sa-yMUaKrTiM"
      },
      "source": [
        "#import library\n",
        "import pandas as pd\n",
        "import numpy as np"
      ],
      "execution_count": null,
      "outputs": []
    },
    {
      "cell_type": "code",
      "metadata": {
        "id": "WJ3ld9E-rTiN"
      },
      "source": [
        "#creating a dataframe\n",
        "df=pd.DataFrame(np.array([[1, 2, 3], [4, 5, 6], [7, 8, 9]]), columns=['a', 'b', 'c'])\n",
        "df"
      ],
      "execution_count": null,
      "outputs": []
    },
    {
      "cell_type": "markdown",
      "metadata": {
        "id": "2n7DiYYwrTiN"
      },
      "source": [
        "Let’s say we want to add 10 to each element in a dataframe:\n"
      ]
    },
    {
      "cell_type": "code",
      "metadata": {
        "id": "-tDD5LworTiP"
      },
      "source": [
        "#applying the transform function\n",
        "df = df.transform(func = lambda x : x + 10)\n",
        "df"
      ],
      "execution_count": null,
      "outputs": []
    },
    {
      "cell_type": "markdown",
      "metadata": {
        "id": "WcAE7oJQrTiQ"
      },
      "source": [
        "Now we will use DataFrame.transform() function to find the square root to each element of the dataframe.\n"
      ]
    },
    {
      "cell_type": "code",
      "metadata": {
        "id": "dAu0jPCCrTiR"
      },
      "source": [
        "result = df.transform(func = ['sqrt'])"
      ],
      "execution_count": null,
      "outputs": []
    },
    {
      "cell_type": "code",
      "metadata": {
        "id": "HW0NxejwrTiS"
      },
      "source": [
        "result"
      ],
      "execution_count": null,
      "outputs": []
    },
    {
      "cell_type": "markdown",
      "metadata": {
        "id": "1AXfVjC3rTiT"
      },
      "source": [
        "For more information about the **transform()** function  please read the [documentation](https://pandas.pydata.org/pandas-docs/stable/reference/api/pandas.DataFrame.transform.html?utm_medium=Exinfluencer&utm_source=Exinfluencer&utm_content=000026UJ&utm_term=10006555&utm_id=NA-SkillsNetwork-Channel-SkillsNetworkCoursesIBMDeveloperSkillsNetworkPY0101ENSkillsNetwork19487395-2021-01-01).\n"
      ]
    },
    {
      "cell_type": "markdown",
      "metadata": {
        "id": "IZZ2RUbirTiU"
      },
      "source": [
        "# JSON file Format\n"
      ]
    },
    {
      "cell_type": "markdown",
      "metadata": {
        "id": "czEwKOv1rTiV"
      },
      "source": [
        "**JSON (JavaScript Object Notation)** is a lightweight data-interchange format. It is easy for humans to read and write.\n",
        "\n",
        "JSON is built on two structures:\n",
        "\n",
        "1.  A collection of name/value pairs. In various languages, this is realized as an object, record, struct, dictionary, hash table, keyed list, or associative array.\n",
        "\n",
        "2.  An ordered list of values. In most languages, this is realized as an array, vector, list, or sequence.\n",
        "\n",
        "JSON is a language-independent data format. It was derived from JavaScript, but many modern programming languages include code to generate and parse JSON-format data. It is a very common data format with a diverse range of applications.\n"
      ]
    },
    {
      "cell_type": "markdown",
      "metadata": {
        "id": "EX00cVagrTiW"
      },
      "source": [
        "The text in JSON is done through quoted string which contains the values in key-value mappings within { }. It is similar to the dictionary in Python.\n"
      ]
    },
    {
      "cell_type": "markdown",
      "metadata": {
        "id": "pZo8FeAVrTiX"
      },
      "source": [
        "Python supports JSON through a built-in package called **json**. To use this feature, we import the json package in Python script.\n"
      ]
    },
    {
      "cell_type": "code",
      "metadata": {
        "id": "BOhnYaSOrTiY"
      },
      "source": [
        "import json"
      ],
      "execution_count": null,
      "outputs": []
    },
    {
      "cell_type": "markdown",
      "metadata": {
        "id": "mYtjqtLPrTiZ"
      },
      "source": [
        "# Writing JSON to a File\n",
        "\n",
        "This is usually called **serialization**. It is the process of converting an object into a special format which is suitable for transmitting over the network or storing in file or database.\n",
        "\n",
        "To handle the data flow in a file, the JSON library in Python uses the **dump()** or **dumps()** function to convert the Python objects into their respective JSON object. This makes it easy to write data to files.\n"
      ]
    },
    {
      "cell_type": "code",
      "metadata": {
        "id": "FVtpVQg-rTia"
      },
      "source": [
        "import json\n",
        "person = {\n",
        "    'first_name' : 'Mark',\n",
        "    'last_name' : 'abc',\n",
        "    'age' : 27,\n",
        "    'address': {\n",
        "        \"streetAddress\": \"21 2nd Street\",\n",
        "        \"city\": \"New York\",\n",
        "        \"state\": \"NY\",\n",
        "        \"postalCode\": \"10021-3100\"\n",
        "    }\n",
        "}"
      ],
      "execution_count": null,
      "outputs": []
    },
    {
      "cell_type": "markdown",
      "metadata": {
        "id": "1RZ0CNGLrTic"
      },
      "source": [
        "#### serialization using dump() function\n",
        "\n",
        "**json.dump()** method can be used for writing to JSON file.\n",
        "\n",
        "Syntax: json.dump(dict, file_pointer)\n",
        "\n",
        "Parameters:\n",
        "\n",
        "1.  **dictionary** – name of the dictionary which should be converted to JSON object.\n",
        "2.  **file pointer** – pointer of the file opened in write or append mode.\n"
      ]
    },
    {
      "cell_type": "code",
      "metadata": {
        "id": "F6oOQfujrTid"
      },
      "source": [
        "with open('person.json', 'w') as f:  # writing JSON object\n",
        "    json.dump(person, f)"
      ],
      "execution_count": null,
      "outputs": []
    },
    {
      "cell_type": "markdown",
      "metadata": {
        "id": "aWjdlvsxrTif"
      },
      "source": [
        "#### serialization using dumps() function\n",
        "\n",
        "**json.dumps()** that helps in converting a dictionary to a JSON object.\n",
        "\n",
        "It takes two parameters:\n",
        "\n",
        "1.  **dictionary** – name of the dictionary which should be converted to JSON object.\n",
        "2.  **indent** – defines the number of units for indentation\n"
      ]
    },
    {
      "cell_type": "code",
      "metadata": {
        "id": "k1bwEB-urTig"
      },
      "source": [
        "# Serializing json  \n",
        "json_object = json.dumps(person, indent = 4) \n",
        "  \n",
        "# Writing to sample.json \n",
        "with open(\"sample.json\", \"w\") as outfile: \n",
        "    outfile.write(json_object) "
      ],
      "execution_count": null,
      "outputs": []
    },
    {
      "cell_type": "code",
      "metadata": {
        "id": "Y-pyx5BvrTig"
      },
      "source": [
        "print(json_object)"
      ],
      "execution_count": null,
      "outputs": []
    },
    {
      "cell_type": "markdown",
      "metadata": {
        "id": "Yf27ixTarTih"
      },
      "source": [
        "Our Python objects are now serialized to the file. To deserialize it back to the Python object, we use the load() function.\n"
      ]
    },
    {
      "cell_type": "markdown",
      "metadata": {
        "id": "01tfMj4KrTii"
      },
      "source": [
        "# Reading JSON to a File\n"
      ]
    },
    {
      "cell_type": "markdown",
      "metadata": {
        "id": "V-NYBX0arTij"
      },
      "source": [
        "This process is usually called **Deserialization** - it is the reverse of serialization. It converts the special format returned by the serialization back into a usable object.\n",
        "\n",
        "### Using json.load()\n",
        "\n",
        "The JSON package has json.load() function that loads the json content from a json file into a dictionary.\n",
        "\n",
        "It takes one parameter:\n",
        "\n",
        "File pointer: A file pointer that points to a JSON file.\n"
      ]
    },
    {
      "cell_type": "code",
      "metadata": {
        "id": "d1OH9AZ5rTij"
      },
      "source": [
        "import json \n",
        "  \n",
        "# Opening JSON file \n",
        "with open('sample.json', 'r') as openfile: \n",
        "  \n",
        "    # Reading from json file \n",
        "    json_object = json.load(openfile) \n",
        "  \n",
        "print(json_object) \n",
        "print(type(json_object)) "
      ],
      "execution_count": null,
      "outputs": []
    },
    {
      "cell_type": "markdown",
      "metadata": {
        "id": "OAVz0ZoyrTik"
      },
      "source": [
        "# XLSX file format\n"
      ]
    },
    {
      "cell_type": "markdown",
      "metadata": {
        "id": "9TyjpnQ-rTik"
      },
      "source": [
        "**XLSX** is a Microsoft Excel Open XML file format. It is another type of Spreadsheet file format.\n",
        "\n",
        "In XLSX data is organized under the cells and columns in a sheet.\n"
      ]
    },
    {
      "cell_type": "markdown",
      "metadata": {
        "id": "-stdY9UUrTik"
      },
      "source": [
        "## Reading the data from XLSX file\n"
      ]
    },
    {
      "cell_type": "markdown",
      "metadata": {
        "id": "InZ1g2ifrTil"
      },
      "source": [
        "Let’s load the data from XLSX file and define the sheet name. For loading the data you can use the Pandas library in python.\n"
      ]
    },
    {
      "cell_type": "code",
      "metadata": {
        "id": "HSWTpS0frTim"
      },
      "source": [
        "import pandas as pd"
      ],
      "execution_count": null,
      "outputs": []
    },
    {
      "cell_type": "code",
      "metadata": {
        "id": "ZDKPAncOrTin"
      },
      "source": [
        "import urllib.request\n",
        "\n",
        "urllib.request.urlretrieve(\"https://cf-courses-data.s3.us.cloud-object-storage.appdomain.cloud/IBMDeveloperSkillsNetwork-PY0101EN-SkillsNetwork/labs/Module%205/data/file_example_XLSX_10.xlsx\", \"sample.xlsx\")\n",
        "df = pd.read_excel(\"sample.xlsx\")"
      ],
      "execution_count": null,
      "outputs": []
    },
    {
      "cell_type": "code",
      "metadata": {
        "id": "bqKfMI4VrTin"
      },
      "source": [
        "df"
      ],
      "execution_count": null,
      "outputs": []
    },
    {
      "cell_type": "markdown",
      "metadata": {
        "id": "AJY2IPhErTio"
      },
      "source": [
        "# XML file format\n"
      ]
    },
    {
      "cell_type": "markdown",
      "metadata": {
        "id": "CpO_XmtCrTio"
      },
      "source": [
        "**XML is also known as Extensible Markup Language**. As the name suggests, it is a markup language. It has certain rules for encoding data. XML file format is a human-readable and machine-readable file format.\n",
        "\n",
        "Pandas does not include any methods to read and write XML files. Here, we will take a look at how we can use other modules to read data from an XML file, and load it into a Pandas DataFrame.\n"
      ]
    },
    {
      "cell_type": "markdown",
      "metadata": {
        "id": "cgbC4kwJrTip"
      },
      "source": [
        "### Writing with xml.etree.ElementTree\n"
      ]
    },
    {
      "cell_type": "markdown",
      "metadata": {
        "id": "bkR3sNfBrTiq"
      },
      "source": [
        "The **xml.etree.ElementTree** module comes built-in with Python. It provides functionality for parsing and creating XML documents. ElementTree represents the XML document as a tree. We can move across the document using nodes which are elements and sub-elements of the XML file.\n",
        "\n",
        "For more information please read the [xml.etree.ElementTree](https://docs.python.org/3/library/xml.etree.elementtree.html?utm_medium=Exinfluencer&utm_source=Exinfluencer&utm_content=000026UJ&utm_term=10006555&utm_id=NA-SkillsNetwork-Channel-SkillsNetworkCoursesIBMDeveloperSkillsNetworkPY0101ENSkillsNetwork19487395-2021-01-01) documentation.\n"
      ]
    },
    {
      "cell_type": "code",
      "metadata": {
        "id": "9nx5WcFyrTiq"
      },
      "source": [
        "import xml.etree.ElementTree as ET\n",
        "\n",
        "# create the file structure\n",
        "employee = ET.Element('employee')\n",
        "details = ET.SubElement(employee, 'details')\n",
        "first = ET.SubElement(details, 'firstname')\n",
        "second = ET.SubElement(details, 'lastname')\n",
        "third = ET.SubElement(details, 'age')\n",
        "first.text = 'Shiv'\n",
        "second.text = 'Mishra'\n",
        "third.text = '23'\n",
        "\n",
        "# create a new XML file with the results\n",
        "mydata1 = ET.ElementTree(employee)\n",
        "# myfile = open(\"items2.xml\", \"wb\")\n",
        "# myfile.write(mydata)\n",
        "with open(\"new_sample.xml\", \"wb\") as files:\n",
        "    mydata1.write(files)"
      ],
      "execution_count": null,
      "outputs": []
    },
    {
      "cell_type": "markdown",
      "metadata": {
        "id": "Y9XEhjS5rTir"
      },
      "source": [
        "### Reading with xml.etree.ElementTree\n"
      ]
    },
    {
      "cell_type": "markdown",
      "metadata": {
        "id": "hkbFdKmirTir"
      },
      "source": [
        "Let's have a look at a one way to read XML data and put it in a Pandas DataFrame. You can see the XML file in the Notepad of your local machine.\n"
      ]
    },
    {
      "cell_type": "code",
      "metadata": {
        "id": "1XKc9nG7rTis"
      },
      "source": [
        "import pandas as pd \n",
        "\n",
        "import xml.etree.ElementTree as etree\n",
        "\n",
        "!wget https://cf-courses-data.s3.us.cloud-object-storage.appdomain.cloud/IBMDeveloperSkillsNetwork-PY0101EN-SkillsNetwork/labs/Module%205/data/Sample-employee-XML-file.xml"
      ],
      "execution_count": null,
      "outputs": []
    },
    {
      "cell_type": "markdown",
      "metadata": {
        "id": "_Wh2JXrirTis"
      },
      "source": [
        "You would need to firstly parse an XML file and create a list of columns for data frame, then extract useful information from the XML file and add to a pandas data frame.\n",
        "\n",
        "Here is a sample code that you can use.:\n"
      ]
    },
    {
      "cell_type": "code",
      "metadata": {
        "id": "OWwBFYIkrTit"
      },
      "source": [
        "tree = etree.parse(\"Sample-employee-XML-file.xml\")\n",
        "\n",
        "root = tree.getroot()\n",
        "columns = [\"firstname\", \"lastname\", \"title\", \"division\", \"building\",\"room\"]\n",
        "\n",
        "datatframe = pd.DataFrame(columns = columns)\n",
        "\n",
        "for node in root: \n",
        "\n",
        "    firstname = node.find(\"firstname\").text\n",
        "\n",
        "    lastname = node.find(\"lastname\").text \n",
        "\n",
        "    title = node.find(\"title\").text \n",
        "    \n",
        "    division = node.find(\"division\").text \n",
        "    \n",
        "    building = node.find(\"building\").text\n",
        "    \n",
        "    room = node.find(\"room\").text\n",
        "    \n",
        "    datatframe = datatframe.append(pd.Series([firstname, lastname, title, division, building, room], index = columns), ignore_index = True)"
      ],
      "execution_count": null,
      "outputs": []
    },
    {
      "cell_type": "code",
      "metadata": {
        "id": "G-XFF4U5rTit"
      },
      "source": [
        "datatframe"
      ],
      "execution_count": null,
      "outputs": []
    },
    {
      "cell_type": "markdown",
      "metadata": {
        "id": "KOBvSYmOrTiu"
      },
      "source": [
        "### Save Data\n"
      ]
    },
    {
      "cell_type": "markdown",
      "metadata": {
        "id": "vzZjDGXBrTiu"
      },
      "source": [
        "Correspondingly, Pandas enables us to save the dataset to csv by using the **dataframe.to_csv()** method, you can add the file path and name along with quotation marks in the parentheses.\n",
        "\n",
        "For example, if you would save the dataframe df as **employee.csv** to your local machine, you may use the syntax below:\n"
      ]
    },
    {
      "cell_type": "code",
      "metadata": {
        "id": "Da7HeUZarTiv"
      },
      "source": [
        "datatframe.to_csv(\"employee.csv\", index=False)"
      ],
      "execution_count": null,
      "outputs": []
    },
    {
      "cell_type": "markdown",
      "metadata": {
        "id": "RIyDPEk0rTiw"
      },
      "source": [
        "We can also read and save other file formats, we can use similar functions to **`pd.read_csv()`** and **`df.to_csv()`** for other data formats. The functions are listed in the following table:\n"
      ]
    },
    {
      "cell_type": "markdown",
      "metadata": {
        "id": "oVXM1fOVrTix"
      },
      "source": [
        "<h2>Read/Save Other Data Formats</h2>\n",
        "\n",
        "| Data Formate |        Read       |            Save |\n",
        "| ------------ | :---------------: | --------------: |\n",
        "| csv          |  `pd.read_csv()`  |   `df.to_csv()` |\n",
        "| json         |  `pd.read_json()` |  `df.to_json()` |\n",
        "| excel        | `pd.read_excel()` | `df.to_excel()` |\n",
        "| hdf          |  `pd.read_hdf()`  |   `df.to_hdf()` |\n",
        "| sql          |  `pd.read_sql()`  |   `df.to_sql()` |\n",
        "| ...          |        ...        |             ... |\n"
      ]
    },
    {
      "cell_type": "markdown",
      "metadata": {
        "id": "AGRGwoZ8rTiy"
      },
      "source": [
        "Let's move ahead and perform some **Data Analysis**.\n"
      ]
    },
    {
      "cell_type": "markdown",
      "metadata": {
        "id": "mQGFqujxrTiy"
      },
      "source": [
        "# Binary File Format\n",
        "\n",
        "\"Binary\" files are any files where the format isn't made up of readable characters. It contain formatting information that only certain applications or processors can understand. While humans can read text files, binary files must be run on the appropriate software or processor before humans can read them.\n",
        "\n",
        "Binary files can range from image files like JPEGs or GIFs, audio files like MP3s or binary document formats like Word or PDF.\n",
        "\n",
        "Let's see how to read an **Image** file.\n",
        "\n",
        "## Reading the Image file\n",
        "\n",
        "Python supports very powerful tools when it comes to image processing. Let’s see how to process the images using the **PIL** library.\n",
        "\n",
        "PIL is the Python Imaging Library which provides the python interpreter with image editing capabilities.\n"
      ]
    },
    {
      "cell_type": "code",
      "metadata": {
        "id": "JBFr3Vl8rTi0"
      },
      "source": [
        "# importing PIL \n",
        "from PIL import Image \n",
        "\n",
        "import urllib.request\n",
        "# Downloading dataset\n",
        "urllib.request.urlretrieve(\"https://hips.hearstapps.com/hmg-prod.s3.amazonaws.com/images/dog-puppy-on-garden-royalty-free-image-1586966191.jpg\", \"dog.jpg\")"
      ],
      "execution_count": null,
      "outputs": []
    },
    {
      "cell_type": "code",
      "metadata": {
        "id": "uGgfctyyrTi0"
      },
      "source": [
        "# Read image \n",
        "img = Image.open('dog.jpg') \n",
        "  \n",
        "# Output Images \n",
        "display(img)"
      ],
      "execution_count": null,
      "outputs": []
    },
    {
      "cell_type": "markdown",
      "metadata": {
        "id": "oA_wU5qNrTi1"
      },
      "source": [
        "# Data Analysis\n"
      ]
    },
    {
      "cell_type": "markdown",
      "metadata": {
        "id": "7PTQWnCCrTi2"
      },
      "source": [
        "In this section, you will learn how to approach data acquisition in various ways and obtain necessary insights from a dataset. By the end of this lab, you will successfully load the data into Jupyter Notebook and gain some fundamental insights via the Pandas Library.\n",
        "\n",
        "In our case, the **Diabetes Dataset** is an online source and it is in CSV (comma separated value) format. Let's use this dataset as an example to practice data reading.\n"
      ]
    },
    {
      "cell_type": "markdown",
      "metadata": {
        "id": "ZFmPserzrTi2"
      },
      "source": [
        "## About this Dataset\n",
        "\n",
        "**Context:** This dataset is originally from the **National Institute of Diabetes and Digestive and Kidney Diseases**. The objective of the dataset is to diagnostically predict whether or not a patient has diabetes, based on certain diagnostic measurements included in the dataset. Several constraints were placed on the selection of these instances from a larger database. In particular, all patients here are females at least 21 years of age of Pima Indian heritage.\n",
        "\n",
        "**Content:** The datasets consists of several medical predictor variables and one target variable, Outcome. Predictor variables includes the number of pregnancies the patient has had, their BMI, insulin level, age, and so on.\n"
      ]
    },
    {
      "cell_type": "markdown",
      "metadata": {
        "id": "MyH62PxDrTi3"
      },
      "source": [
        "We have 768 rows and 9 columns. The first 8 columns represent the features and the last column represent the target/label.\n"
      ]
    },
    {
      "cell_type": "code",
      "metadata": {
        "id": "lrBUDfaarTi3"
      },
      "source": [
        "# Import pandas library\n",
        "import pandas as pd"
      ],
      "execution_count": null,
      "outputs": []
    },
    {
      "cell_type": "code",
      "metadata": {
        "id": "_6Zh8IgarTi4"
      },
      "source": [
        "path = \"https://cf-courses-data.s3.us.cloud-object-storage.appdomain.cloud/IBMDeveloperSkillsNetwork-PY0101EN-SkillsNetwork/labs/Module%205/data/diabetes.csv\"\n",
        "df = pd.read_csv(path)"
      ],
      "execution_count": null,
      "outputs": []
    },
    {
      "cell_type": "markdown",
      "metadata": {
        "id": "YkbE0tFYrTi6"
      },
      "source": [
        "After reading the dataset, we can use the **dataframe.head(n)** method to check the top n rows of the dataframe, where n is an integer. Contrary to **dataframe.head(n)**, **dataframe.tail(n)** will show you the bottom n rows of the dataframe.\n"
      ]
    },
    {
      "cell_type": "code",
      "metadata": {
        "id": "5jJ8pHNdrTi6"
      },
      "source": [
        "# show the first 5 rows using dataframe.head() method\n",
        "print(\"The first 5 rows of the dataframe\") \n",
        "df.head(5)"
      ],
      "execution_count": null,
      "outputs": []
    },
    {
      "cell_type": "markdown",
      "metadata": {
        "id": "NzH5y8l7rTi6"
      },
      "source": [
        "To view the dimensions of the dataframe, we use the **`.shape`** parameter.\n"
      ]
    },
    {
      "cell_type": "code",
      "metadata": {
        "id": "lHq5RnU4rTi6"
      },
      "source": [
        "df.shape"
      ],
      "execution_count": null,
      "outputs": []
    },
    {
      "cell_type": "markdown",
      "metadata": {
        "id": "6oboe-WPrTi7"
      },
      "source": [
        "# Statistical Overview of dataset\n"
      ]
    },
    {
      "cell_type": "code",
      "metadata": {
        "id": "uKAC5uzWrTi8"
      },
      "source": [
        "df.info()"
      ],
      "execution_count": null,
      "outputs": []
    },
    {
      "cell_type": "markdown",
      "metadata": {
        "id": "lOH4VGwsrTjI"
      },
      "source": [
        "This method prints information about a DataFrame including the index dtype and columns, non-null values and memory usage.\n"
      ]
    },
    {
      "cell_type": "code",
      "metadata": {
        "id": "mKa2Wc7JrTjK"
      },
      "source": [
        "df.describe()"
      ],
      "execution_count": null,
      "outputs": []
    },
    {
      "cell_type": "markdown",
      "metadata": {
        "id": "KT0J5dF_rTjM"
      },
      "source": [
        "Pandas **describe()** is used to view some basic statistical details like percentile, mean, standard deviation, etc. of a data frame or a series of numeric values. When this method is applied to a series of strings, it returns a different output\n"
      ]
    },
    {
      "cell_type": "markdown",
      "metadata": {
        "id": "HXdbeB-KrTjN"
      },
      "source": [
        "### Identify and handle missing values\n"
      ]
    },
    {
      "cell_type": "markdown",
      "metadata": {
        "id": "LXWXKKnprTjP"
      },
      "source": [
        "We use Python's built-in functions to identify these missing values. There are two methods to detect missing data:\n",
        "\n",
        "**.isnull()**\n",
        "\n",
        "**.notnull()**\n",
        "\n",
        "The output is a boolean value indicating whether the value that is passed into the argument is in fact missing data.\n"
      ]
    },
    {
      "cell_type": "code",
      "metadata": {
        "id": "gNNSqTxurTjQ"
      },
      "source": [
        "missing_data = df.isnull()\n",
        "missing_data.head(5)"
      ],
      "execution_count": null,
      "outputs": []
    },
    {
      "cell_type": "markdown",
      "metadata": {
        "id": "9AjTeHXzrTjR"
      },
      "source": [
        "\"True\" stands for missing value, while \"False\" stands for not missing value.\n"
      ]
    },
    {
      "cell_type": "markdown",
      "metadata": {
        "id": "_-L0c3cErTjS"
      },
      "source": [
        "<h4>Count missing values in each column</h4>\n",
        "<p>\n",
        "Using a for loop in Python, we can quickly figure out the number of missing values in each column. As mentioned above, \"True\" represents a missing value, \"False\"  means the value is present in the dataset.  In the body of the for loop the method \".value_counts()\"  counts the number of \"True\" values. \n",
        "</p>\n"
      ]
    },
    {
      "cell_type": "code",
      "metadata": {
        "id": "SCUaiV9MrTjT"
      },
      "source": [
        "for column in missing_data.columns.values.tolist():\n",
        "    print(column)\n",
        "    print (missing_data[column].value_counts())\n",
        "    print(\"\")    "
      ],
      "execution_count": null,
      "outputs": []
    },
    {
      "cell_type": "markdown",
      "metadata": {
        "id": "jipBFgg-rTjT"
      },
      "source": [
        "As you can see above, there is no missing values in the dataset.\n"
      ]
    },
    {
      "cell_type": "markdown",
      "metadata": {
        "id": "g5tEurZVrTjT"
      },
      "source": [
        "<h3 id=\"correct_data_format\">Correct data format</h3>\n",
        "\n",
        "<p>Check all data is in the correct format (int, float, text or other).</p>\n",
        "\n",
        "In Pandas, we use\n",
        "\n",
        "<p><b>.dtype()</b> to check the data type</p>\n",
        "<p><b>.astype()</b> to change the data type</p>\n",
        "\n",
        "Numerical variables should have type **'float'** or **'int'**.\n"
      ]
    },
    {
      "cell_type": "code",
      "metadata": {
        "id": "Ihv6QliqrTjT"
      },
      "source": [
        "df.dtypes"
      ],
      "execution_count": null,
      "outputs": []
    },
    {
      "cell_type": "markdown",
      "metadata": {
        "id": "h3Cs_D-brTjU"
      },
      "source": [
        "As we can see above, All columns have the correct data type.\n"
      ]
    },
    {
      "cell_type": "markdown",
      "metadata": {
        "id": "uX5sAX02rTjU"
      },
      "source": [
        "# Visualization\n"
      ]
    },
    {
      "cell_type": "markdown",
      "metadata": {
        "id": "0ZjkXKIIrTjU"
      },
      "source": [
        "**Visualization** is one of the best way to get insights from the dataset. **Seaborn** and **Matplotlib** are two of Python's most powerful visualization libraries.\n"
      ]
    },
    {
      "cell_type": "code",
      "metadata": {
        "id": "7O-qHqf3rTjV"
      },
      "source": [
        "# import libraries\n",
        "import matplotlib.pyplot as plt\n",
        "import seaborn as sns"
      ],
      "execution_count": null,
      "outputs": []
    },
    {
      "cell_type": "code",
      "metadata": {
        "id": "HiDK-7nFrTjW"
      },
      "source": [
        "labels= 'Diabetic','Not Diabetic'\n",
        "plt.pie(df['Outcome'].value_counts(),labels=labels,autopct='%0.02f%%')\n",
        "plt.legend()\n",
        "plt.show()"
      ],
      "execution_count": null,
      "outputs": []
    },
    {
      "cell_type": "markdown",
      "metadata": {
        "id": "RdgT1NAtrTjX"
      },
      "source": [
        "As you can see above, 65.10% females are Diabetic and 34.90% are Not Diabetic.\n"
      ]
    },
    {
      "cell_type": "markdown",
      "metadata": {
        "id": "50jJimEVrTjY"
      },
      "source": [
        "# Thank you for completing this Notebook\n"
      ]
    }
  ]
}