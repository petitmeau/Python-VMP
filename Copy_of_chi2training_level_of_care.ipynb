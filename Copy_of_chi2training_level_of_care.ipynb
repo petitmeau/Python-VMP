{
  "nbformat": 4,
  "nbformat_minor": 0,
  "metadata": {
    "colab": {
      "name": "Copy of chi2training_level_of_care.ipynb",
      "provenance": [],
      "authorship_tag": "ABX9TyMmx5EL+7izrVxcAAoz2UC0",
      "include_colab_link": true
    },
    "kernelspec": {
      "name": "python3",
      "display_name": "Python 3"
    },
    "language_info": {
      "name": "python"
    }
  },
  "cells": [
    {
      "cell_type": "markdown",
      "metadata": {
        "id": "view-in-github",
        "colab_type": "text"
      },
      "source": [
        "<a href=\"https://colab.research.google.com/github/petitmeau/Python-VMP/blob/main/Copy_of_chi2training_level_of_care.ipynb\" target=\"_parent\"><img src=\"https://colab.research.google.com/assets/colab-badge.svg\" alt=\"Open In Colab\"/></a>"
      ]
    },
    {
      "cell_type": "code",
      "execution_count": null,
      "metadata": {
        "colab": {
          "base_uri": "https://localhost:8080/"
        },
        "id": "n9rXgBUSv_CK",
        "outputId": "f7e89da7-b778-48fa-b056-ecc67b84ff15"
      },
      "outputs": [
        {
          "output_type": "stream",
          "name": "stdout",
          "text": [
            "Mounted at /content/drive\n",
            "Have you had any training in neonatal lung US?  No  Yes\n",
            "What level of care does your unit provide?             \n",
            "Level 1                                          7    1\n",
            "Level 2                                         29    6\n",
            "Level 3                                         52   28\n",
            "Have you had any training in neonatal lung US?        No       Yes\n",
            "What level of care does your unit provide?                        \n",
            "Level 1                                         0.875000  0.125000\n",
            "Level 2                                         0.828571  0.171429\n",
            "Level 3                                         0.650000  0.350000\n"
          ]
        },
        {
          "output_type": "execute_result",
          "data": {
            "text/plain": [
              "(4.883630565862708, 0.08700277337767312, 2, array([[ 5.72357724,  2.27642276],\n",
              "        [25.04065041,  9.95934959],\n",
              "        [57.23577236, 22.76422764]]))"
            ]
          },
          "metadata": {},
          "execution_count": 1
        }
      ],
      "source": [
        "from google.colab import drive\n",
        "drive.mount(\"/content/drive\")\n",
        "import scipy\n",
        "\n",
        "from scipy.stats import chi2_contingency\n",
        "import seaborn as sns\n",
        "import matplotlib.pyplot as plt\n",
        "import pandas as pd\n",
        "\n",
        "%matplotlib inline\n",
        "\n",
        "\n",
        "\n",
        "filename='/content/drive/My Drive/LUS_3009.xlsx'\n",
        "\n",
        "headers= ['Timestamp','Are you familiar with neonatal lung US?','Does your unit routinely use lung US in clinical practice?','If your unit routinely uses lung US, what it is used for? Choose all that apply','If your unit routinely uses lung US, how long has it been doing so for?','Have you had any training in neonatal lung US?','If yes, what training have you had?','Would you be interested in attending formal training to enable you to pioneer and implement neonatal lung US in your neonatal unit?','Do you have a linear or micro-linear (hockey stick) probe in your ultrasound machine? (demonstrated in the picture below)','Where is your neonatal unit based?','What level of care does your unit provide?','What is your level of training']\n",
        "\n",
        "\n",
        "df=pd.read_excel(filename, names=headers)\n",
        "\n",
        "contingency=pd.crosstab(df['What level of care does your unit provide?'], df['Have you had any training in neonatal lung US?'])\n",
        "\n",
        "print(contingency)\n",
        "\n",
        "contingency_pct=pd.crosstab(df['What level of care does your unit provide?'], df['Have you had any training in neonatal lung US?'], normalize='index')\n",
        "print(contingency_pct)\n",
        "scipy.stats.chi2_contingency(contingency, correction=True)"
      ]
    }
  ]
}