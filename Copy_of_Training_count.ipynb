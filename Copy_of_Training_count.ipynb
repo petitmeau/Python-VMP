{
  "nbformat": 4,
  "nbformat_minor": 0,
  "metadata": {
    "colab": {
      "name": "Copy of Training_count.ipynb",
      "provenance": [],
      "collapsed_sections": [],
      "mount_file_id": "1wfrhX3ktKNJeL2yi_OpfSXR0ypHHl-t_",
      "authorship_tag": "ABX9TyOcCHbmSQwgbGA+uUFSUlex",
      "include_colab_link": true
    },
    "kernelspec": {
      "name": "python3",
      "display_name": "Python 3"
    },
    "language_info": {
      "name": "python"
    }
  },
  "cells": [
    {
      "cell_type": "markdown",
      "metadata": {
        "id": "view-in-github",
        "colab_type": "text"
      },
      "source": [
        "<a href=\"https://colab.research.google.com/github/petitmeau/Python-VMP/blob/main/Copy_of_Training_count.ipynb\" target=\"_parent\"><img src=\"https://colab.research.google.com/assets/colab-badge.svg\" alt=\"Open In Colab\"/></a>"
      ]
    },
    {
      "cell_type": "code",
      "execution_count": null,
      "metadata": {
        "colab": {
          "base_uri": "https://localhost:8080/"
        },
        "id": "i9DKmuKmvEgf",
        "outputId": "bf8bd2d2-8c10-419e-b03f-1cfc59f61379"
      },
      "outputs": [
        {
          "output_type": "stream",
          "name": "stdout",
          "text": [
            "Drive already mounted at /content/drive; to attempt to forcibly remount, call drive.mount(\"/content/drive\", force_remount=True).\n",
            "                           value count\n",
            "Training                              \n",
            "I have not had training             81\n",
            "Hands-on course                     15\n",
            "Virtual course                      11\n",
            "Informal bedside teaching            8\n",
            "Short teaching session               8\n"
          ]
        }
      ],
      "source": [
        "from google.colab import drive\n",
        "drive.mount(\"/content/drive\")\n",
        "\n",
        "filename='/content/drive/My Drive/LUS_3009.xlsx'\n",
        "\n",
        "headers=['Timestamp','Are you familiar with neonatal lung US?','Does your unit routinely use lung US in clinical practice?','If your unit routinely uses lung US, what it is used for? Choose all that apply','If your unit routinely uses lung US, how long has it been doing so for?','Have you had any training in neonatal lung US?','If yes, what training have you had?','Would you be interested in attending formal training to enable you to pioneer and implement neonatal lung US in your neonatal unit?','Do you have a linear or micro-linear (hockey stick) probe in your ultrasound machine? (demonstrated in the picture below)','Where is your neonatal unit based?','What level of care does your unit provide?','What is your level of training']\n",
        "\n",
        "\n",
        "df=pd.read_excel(filename, names=headers)\n",
        "\n",
        "training_count=df['If yes, what training have you had?'].value_counts().to_frame()\n",
        "training_count.rename(columns={'If yes, what training have you had?':'value count'}, inplace=True)\n",
        "\n",
        "training_count.index.name='Training'\n",
        "print(training_count)\n",
        "\n",
        "\n"
      ]
    }
  ]
}