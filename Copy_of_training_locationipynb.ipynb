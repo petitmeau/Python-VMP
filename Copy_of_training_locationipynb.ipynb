{
  "nbformat": 4,
  "nbformat_minor": 0,
  "metadata": {
    "colab": {
      "name": "Copy of training_locationipynb",
      "provenance": [],
      "authorship_tag": "ABX9TyNg+m4rkW8ow1rscXE4X6Bm",
      "include_colab_link": true
    },
    "kernelspec": {
      "name": "python3",
      "display_name": "Python 3"
    },
    "language_info": {
      "name": "python"
    }
  },
  "cells": [
    {
      "cell_type": "markdown",
      "metadata": {
        "id": "view-in-github",
        "colab_type": "text"
      },
      "source": [
        "<a href=\"https://colab.research.google.com/github/petitmeau/Python-VMP/blob/main/Copy_of_training_locationipynb.ipynb\" target=\"_parent\"><img src=\"https://colab.research.google.com/assets/colab-badge.svg\" alt=\"Open In Colab\"/></a>"
      ]
    },
    {
      "cell_type": "code",
      "execution_count": null,
      "metadata": {
        "colab": {
          "base_uri": "https://localhost:8080/"
        },
        "id": "XOvaeGcDtOvE",
        "outputId": "7406cd59-5178-4c9d-d971-f55ec476a192"
      },
      "outputs": [
        {
          "output_type": "stream",
          "name": "stdout",
          "text": [
            "Drive already mounted at /content/drive; to attempt to forcibly remount, call drive.mount(\"/content/drive\", force_remount=True).\n",
            "Have you had any training in neonatal lung US?  No  Yes\n",
            "Where is your neonatal unit based?                     \n",
            "England                                         51   24\n",
            "Northern Ireland                                12    1\n",
            "Scotland                                        23   10\n",
            "Wales                                            2    0\n",
            "Have you had any training in neonatal lung US?        No       Yes\n",
            "Where is your neonatal unit based?                                \n",
            "England                                         0.680000  0.320000\n",
            "Northern Ireland                                0.923077  0.076923\n",
            "Scotland                                        0.696970  0.303030\n",
            "Wales                                           1.000000  0.000000\n"
          ]
        },
        {
          "output_type": "execute_result",
          "data": {
            "text/plain": [
              "(4.066540187085641, 0.2543680560486246, 3, array([[53.65853659, 21.34146341],\n",
              "        [ 9.30081301,  3.69918699],\n",
              "        [23.6097561 ,  9.3902439 ],\n",
              "        [ 1.43089431,  0.56910569]]))"
            ]
          },
          "metadata": {},
          "execution_count": 2
        }
      ],
      "source": [
        "from google.colab import drive\n",
        "drive.mount(\"/content/drive\")\n",
        "import scipy\n",
        "\n",
        "from scipy.stats import chi2_contingency\n",
        "import seaborn as sns\n",
        "import matplotlib.pyplot as plt\n",
        "import pandas as pd\n",
        "\n",
        "%matplotlib inline\n",
        "\n",
        "\n",
        "\n",
        "filename='/content/drive/My Drive/LUS_3009.xlsx'\n",
        "\n",
        "headers= ['Timestamp','Are you familiar with neonatal lung US?','Does your unit routinely use lung US in clinical practice?','If your unit routinely uses lung US, what it is used for? Choose all that apply','If your unit routinely uses lung US, how long has it been doing so for?','Have you had any training in neonatal lung US?','If yes, what training have you had?','Would you be interested in attending formal training to enable you to pioneer and implement neonatal lung US in your neonatal unit?','Do you have a linear or micro-linear (hockey stick) probe in your ultrasound machine? (demonstrated in the picture below)','Where is your neonatal unit based?','What level of care does your unit provide?','What is your level of training']\n",
        "\n",
        "\n",
        "df=pd.read_excel(filename, names=headers)\n",
        "\n",
        "contingency=pd.crosstab(df['Where is your neonatal unit based?'], df['Have you had any training in neonatal lung US?'])\n",
        "\n",
        "print(contingency)\n",
        "\n",
        "contingency_pct=pd.crosstab(df['Where is your neonatal unit based?'], df['Have you had any training in neonatal lung US?'], normalize='index')\n",
        "print(contingency_pct)\n",
        "scipy.stats.chi2_contingency(contingency, correction=True)"
      ]
    }
  ]
}