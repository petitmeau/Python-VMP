{
  "nbformat": 4,
  "nbformat_minor": 0,
  "metadata": {
    "colab": {
      "name": "Copy of groupby_level_of_training_type_of_training.ipynb",
      "provenance": [],
      "collapsed_sections": [],
      "authorship_tag": "ABX9TyOi3KdySlMPNFEPgBbbDWfx",
      "include_colab_link": true
    },
    "kernelspec": {
      "name": "python3",
      "display_name": "Python 3"
    },
    "language_info": {
      "name": "python"
    }
  },
  "cells": [
    {
      "cell_type": "markdown",
      "metadata": {
        "id": "view-in-github",
        "colab_type": "text"
      },
      "source": [
        "<a href=\"https://colab.research.google.com/github/petitmeau/Python-VMP/blob/main/Copy_of_groupby_level_of_training_type_of_training.ipynb\" target=\"_parent\"><img src=\"https://colab.research.google.com/assets/colab-badge.svg\" alt=\"Open In Colab\"/></a>"
      ]
    },
    {
      "cell_type": "code",
      "execution_count": null,
      "metadata": {
        "colab": {
          "base_uri": "https://localhost:8080/"
        },
        "id": "oIyUs9CShzP2",
        "outputId": "7fedd534-6a5a-4f77-dd26-94f3d3f139a2"
      },
      "outputs": [
        {
          "output_type": "stream",
          "name": "stdout",
          "text": [
            "Drive already mounted at /content/drive; to attempt to forcibly remount, call drive.mount(\"/content/drive\", force_remount=True).\n",
            "           What is your level of training If yes, what training have you had?\n",
            "0     Advance neonatal nurse practitioner                     Hands-on course\n",
            "1     Advance neonatal nurse practitioner             I have not had training\n",
            "2     Advance neonatal nurse practitioner              Short teaching session\n",
            "3           General paediatric consultant             I have not had training\n",
            "4           General paediatric consultant              Short teaching session\n",
            "5           General paediatric consultant                      Virtual course\n",
            "6                          Neonatal Nurse             I have not had training\n",
            "7                     Neonatal consultant                     Hands-on course\n",
            "8                     Neonatal consultant             I have not had training\n",
            "9                     Neonatal consultant           Informal bedside teaching\n",
            "10                    Neonatal consultant              Short teaching session\n",
            "11                    Neonatal consultant                      Virtual course\n",
            "12                  Neonatal grid trainee                     Hands-on course\n",
            "13                  Neonatal grid trainee             I have not had training\n",
            "14                  Neonatal grid trainee           Informal bedside teaching\n",
            "15                  Neonatal grid trainee              Short teaching session\n",
            "16                     Paediatric trainee                     Hands-on course\n",
            "17                     Paediatric trainee             I have not had training\n",
            "18                     Paediatric trainee                      Virtual course\n",
            "19  Paediatric trainee with neonatal SPIN             I have not had training\n",
            "20  Paediatric trainee with neonatal SPIN           Informal bedside teaching\n",
            "21                      Speciality doctor                     Hands-on course\n",
            "22                      Speciality doctor             I have not had training\n",
            "23                      Speciality doctor           Informal bedside teaching\n",
            "Empty DataFrame\n",
            "Columns: []\n",
            "Index: [Advance neonatal nurse practitioner, General paediatric consultant, Neonatal Nurse, Neonatal consultant, Neonatal grid trainee, Paediatric trainee, Paediatric trainee with neonatal SPIN, Speciality doctor]\n"
          ]
        }
      ],
      "source": [
        "from google.colab import drive\n",
        "drive.mount(\"/content/drive\")\n",
        "import scipy\n",
        "\n",
        "from scipy.stats import chi2_contingency\n",
        "import seaborn as sns\n",
        "import matplotlib.pyplot as plt\n",
        "import pandas as pd\n",
        "\n",
        "%matplotlib inline\n",
        "\n",
        "\n",
        "\n",
        "filename='/content/drive/My Drive/LUS_3009.xlsx'\n",
        "\n",
        "headers= ['Timestamp','Are you familiar with neonatal lung US?','Does your unit routinely use lung US in clinical practice?','If your unit routinely uses lung US, what it is used for? Choose all that apply','If your unit routinely uses lung US, how long has it been doing so for?','Have you had any training in neonatal lung US?','If yes, what training have you had?','Would you be interested in attending formal training to enable you to pioneer and implement neonatal lung US in your neonatal unit?','Do you have a linear or micro-linear (hockey stick) probe in your ultrasound machine? (demonstrated in the picture below)','Where is your neonatal unit based?','What level of care does your unit provide?','What is your level of training']\n",
        "\n",
        "\n",
        "df=pd.read_excel(filename, names=headers)\n",
        "\n",
        "df_test=df[['What is your level of training','If yes, what training have you had?']]\n",
        "df_group=df_test.groupby(['What is your level of training', 'If yes, what training have you had?'], as_index=False).count()\n",
        "df_pivot=df_group.pivot(index='What is your level of training', columns='If yes, what training have you had?')\n",
        "\n",
        "print(df_group)\n",
        "print(df_pivot)\n",
        "\n",
        "\n",
        "\n"
      ]
    }
  ]
}