{
  "nbformat": 4,
  "nbformat_minor": 0,
  "metadata": {
    "colab": {
      "name": "chi2.ipynb",
      "provenance": [],
      "collapsed_sections": [],
      "authorship_tag": "ABX9TyPj9F9ASyAZXCfcbtIPyk6g",
      "include_colab_link": true
    },
    "kernelspec": {
      "name": "python3",
      "display_name": "Python 3"
    },
    "language_info": {
      "name": "python"
    }
  },
  "cells": [
    {
      "cell_type": "markdown",
      "metadata": {
        "id": "view-in-github",
        "colab_type": "text"
      },
      "source": [
        "<a href=\"https://colab.research.google.com/github/petitmeau/Python-VMP/blob/main/chi2.ipynb\" target=\"_parent\"><img src=\"https://colab.research.google.com/assets/colab-badge.svg\" alt=\"Open In Colab\"/></a>"
      ]
    },
    {
      "cell_type": "code",
      "execution_count": null,
      "metadata": {
        "colab": {
          "base_uri": "https://localhost:8080/"
        },
        "id": "VWdLeOPk5RRJ",
        "outputId": "f5dc65f8-b792-47f2-bd90-21fe44e8056b"
      },
      "outputs": [
        {
          "output_type": "stream",
          "name": "stdout",
          "text": [
            "Drive already mounted at /content/drive; to attempt to forcibly remount, call drive.mount(\"/content/drive\", force_remount=True).\n",
            "Have you had any training in neonatal lung US?  No  Yes\n",
            "What is your level of training                         \n",
            "Advance neonatal nurse practitioner             12    2\n",
            "General paediatric consultant                   13    2\n",
            "Neonatal Nurse                                   1    0\n",
            "Neonatal consultant                             31   18\n",
            "Neonatal grid trainee                           18   10\n",
            "Paediatric trainee                               7    0\n",
            "Paediatric trainee with neonatal SPIN            3    1\n",
            "Speciality doctor                                3    2\n",
            "Have you had any training in neonatal lung US?        No       Yes\n",
            "What is your level of training                                    \n",
            "Advance neonatal nurse practitioner             0.857143  0.142857\n",
            "General paediatric consultant                   0.866667  0.133333\n",
            "Neonatal Nurse                                  1.000000  0.000000\n",
            "Neonatal consultant                             0.632653  0.367347\n",
            "Neonatal grid trainee                           0.642857  0.357143\n",
            "Paediatric trainee                              1.000000  0.000000\n",
            "Paediatric trainee with neonatal SPIN           0.750000  0.250000\n",
            "Speciality doctor                               0.600000  0.400000\n"
          ]
        },
        {
          "output_type": "execute_result",
          "data": {
            "text/plain": [
              "(8.972797839915186, 0.2546149585825224, 7, array([[10.01626016,  3.98373984],\n",
              "        [10.73170732,  4.26829268],\n",
              "        [ 0.71544715,  0.28455285],\n",
              "        [35.05691057, 13.94308943],\n",
              "        [20.03252033,  7.96747967],\n",
              "        [ 5.00813008,  1.99186992],\n",
              "        [ 2.86178862,  1.13821138],\n",
              "        [ 3.57723577,  1.42276423]]))"
            ]
          },
          "metadata": {},
          "execution_count": 10
        }
      ],
      "source": [
        "from google.colab import drive\n",
        "drive.mount(\"/content/drive\")\n",
        "import scipy\n",
        "\n",
        "from scipy.stats import chi2_contingency\n",
        "import seaborn as sns\n",
        "import matplotlib.pyplot as plt\n",
        "import pandas as pd\n",
        "\n",
        "%matplotlib inline\n",
        "\n",
        "\n",
        "\n",
        "filename='/content/drive/My Drive/LUS_3009.xlsx'\n",
        "\n",
        "headers= ['Timestamp','Are you familiar with neonatal lung US?','Does your unit routinely use lung US in clinical practice?','If your unit routinely uses lung US, what it is used for? Choose all that apply','If your unit routinely uses lung US, how long has it been doing so for?','Have you had any training in neonatal lung US?','If yes, what training have you had?','Would you be interested in attending formal training to enable you to pioneer and implement neonatal lung US in your neonatal unit?','Do you have a linear or micro-linear (hockey stick) probe in your ultrasound machine? (demonstrated in the picture below)','Where is your neonatal unit based?','What level of care does your unit provide?','What is your level of training']\n",
        "\n",
        "\n",
        "df=pd.read_excel(filename, names=headers)\n",
        "\n",
        "contingency=pd.crosstab(df['What is your level of training'], df['Have you had any training in neonatal lung US?'])\n",
        "\n",
        "print(contingency)\n",
        "\n",
        "contingency_pct=pd.crosstab(df['What is your level of training'], df['Have you had any training in neonatal lung US?'], normalize='index')\n",
        "print(contingency_pct)\n",
        "scipy.stats.chi2_contingency(contingency, correction=True)\n",
        "\n",
        "\n"
      ]
    }
  ]
}